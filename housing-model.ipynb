{
 "cells": [
  {
   "cell_type": "code",
   "execution_count": 1,
   "id": "d4900635",
   "metadata": {
    "_cell_guid": "b1076dfc-b9ad-4769-8c92-a6c4dae69d19",
    "_uuid": "8f2839f25d086af736a60e9eeb907d3b93b6e0e5",
    "execution": {
     "iopub.execute_input": "2024-12-15T09:36:11.879521Z",
     "iopub.status.busy": "2024-12-15T09:36:11.878412Z",
     "iopub.status.idle": "2024-12-15T09:36:12.875966Z",
     "shell.execute_reply": "2024-12-15T09:36:12.874718Z"
    },
    "papermill": {
     "duration": 1.006432,
     "end_time": "2024-12-15T09:36:12.878717",
     "exception": false,
     "start_time": "2024-12-15T09:36:11.872285",
     "status": "completed"
    },
    "tags": []
   },
   "outputs": [
    {
     "name": "stdout",
     "output_type": "stream",
     "text": [
      "/kaggle/input/house-prices-advanced-regression-techniques/sample_submission.csv\n",
      "/kaggle/input/house-prices-advanced-regression-techniques/data_description.txt\n",
      "/kaggle/input/house-prices-advanced-regression-techniques/train.csv\n",
      "/kaggle/input/house-prices-advanced-regression-techniques/test.csv\n"
     ]
    }
   ],
   "source": [
    "# This Python 3 environment comes with many helpful analytics libraries installed\n",
    "# It is defined by the kaggle/python Docker image: https://github.com/kaggle/docker-python\n",
    "# For example, here's several helpful packages to load\n",
    "\n",
    "import numpy as np # linear algebra\n",
    "import pandas as pd # data processing, CSV file I/O (e.g. pd.read_csv)\n",
    "\n",
    "# Input data files are available in the read-only \"../input/\" directory\n",
    "# For example, running this (by clicking run or pressing Shift+Enter) will list all files under the input directory\n",
    "\n",
    "import os\n",
    "for dirname, _, filenames in os.walk('/kaggle/input'):\n",
    "    for filename in filenames:\n",
    "        print(os.path.join(dirname, filename))\n",
    "\n",
    "# You can write up to 20GB to the current directory (/kaggle/working/) that gets preserved as output when you create a version using \"Save & Run All\" \n",
    "# You can also write temporary files to /kaggle/temp/, but they won't be saved outside of the current session"
   ]
  },
  {
   "cell_type": "code",
   "execution_count": 2,
   "id": "1abde806",
   "metadata": {
    "execution": {
     "iopub.execute_input": "2024-12-15T09:36:12.888715Z",
     "iopub.status.busy": "2024-12-15T09:36:12.888186Z",
     "iopub.status.idle": "2024-12-15T09:36:14.796925Z",
     "shell.execute_reply": "2024-12-15T09:36:14.795767Z"
    },
    "papermill": {
     "duration": 1.916502,
     "end_time": "2024-12-15T09:36:14.799396",
     "exception": false,
     "start_time": "2024-12-15T09:36:12.882894",
     "status": "completed"
    },
    "tags": []
   },
   "outputs": [],
   "source": [
    "from sklearn.ensemble import RandomForestClassifier"
   ]
  },
  {
   "cell_type": "code",
   "execution_count": 3,
   "id": "8486e777",
   "metadata": {
    "execution": {
     "iopub.execute_input": "2024-12-15T09:36:14.808793Z",
     "iopub.status.busy": "2024-12-15T09:36:14.808220Z",
     "iopub.status.idle": "2024-12-15T09:36:14.813037Z",
     "shell.execute_reply": "2024-12-15T09:36:14.812119Z"
    },
    "papermill": {
     "duration": 0.011726,
     "end_time": "2024-12-15T09:36:14.815006",
     "exception": false,
     "start_time": "2024-12-15T09:36:14.803280",
     "status": "completed"
    },
    "tags": []
   },
   "outputs": [],
   "source": [
    "# Specify the paths to the training and the validation data files.\n",
    "\n",
    "training_data_file_path = '../input/house-prices-advanced-regression-techniques/train.csv'\n",
    "\n",
    "validation_data_file_path = '../input/house-prices-advanced-regression-techniques/test.csv'"
   ]
  },
  {
   "cell_type": "code",
   "execution_count": 4,
   "id": "be528d80",
   "metadata": {
    "execution": {
     "iopub.execute_input": "2024-12-15T09:36:14.824126Z",
     "iopub.status.busy": "2024-12-15T09:36:14.823682Z",
     "iopub.status.idle": "2024-12-15T09:36:14.895318Z",
     "shell.execute_reply": "2024-12-15T09:36:14.894407Z"
    },
    "papermill": {
     "duration": 0.078845,
     "end_time": "2024-12-15T09:36:14.897677",
     "exception": false,
     "start_time": "2024-12-15T09:36:14.818832",
     "status": "completed"
    },
    "tags": []
   },
   "outputs": [],
   "source": [
    "# Read the .csv files\n",
    "\n",
    "training_data = pd.read_csv(training_data_file_path)\n",
    "\n",
    "validation_data = pd.read_csv(validation_data_file_path)"
   ]
  },
  {
   "cell_type": "code",
   "execution_count": 5,
   "id": "ebcc5523",
   "metadata": {
    "execution": {
     "iopub.execute_input": "2024-12-15T09:36:14.907356Z",
     "iopub.status.busy": "2024-12-15T09:36:14.906372Z",
     "iopub.status.idle": "2024-12-15T09:36:14.916046Z",
     "shell.execute_reply": "2024-12-15T09:36:14.914686Z"
    },
    "papermill": {
     "duration": 0.016847,
     "end_time": "2024-12-15T09:36:14.918307",
     "exception": false,
     "start_time": "2024-12-15T09:36:14.901460",
     "status": "completed"
    },
    "tags": []
   },
   "outputs": [],
   "source": [
    "# Set up the target variable for the training dataset\n",
    "\n",
    "training_target_variable = training_data.SalePrice"
   ]
  },
  {
   "cell_type": "code",
   "execution_count": 6,
   "id": "bee9fae3",
   "metadata": {
    "execution": {
     "iopub.execute_input": "2024-12-15T09:36:14.927713Z",
     "iopub.status.busy": "2024-12-15T09:36:14.927292Z",
     "iopub.status.idle": "2024-12-15T09:36:14.942015Z",
     "shell.execute_reply": "2024-12-15T09:36:14.941082Z"
    },
    "papermill": {
     "duration": 0.022048,
     "end_time": "2024-12-15T09:36:14.944222",
     "exception": false,
     "start_time": "2024-12-15T09:36:14.922174",
     "status": "completed"
    },
    "tags": []
   },
   "outputs": [],
   "source": [
    "# Apply one-hot encoding to the 'Foundation' feature\n",
    "\n",
    "one_hot_encoded_test_foundation = pd.get_dummies(training_data.Foundation, prefix = 'Foundation')\n",
    "\n",
    "one_hot_encoded_validation_foundation = pd.get_dummies(validation_data.Foundation, prefix = 'Foundation')"
   ]
  },
  {
   "cell_type": "code",
   "execution_count": 7,
   "id": "514ba247",
   "metadata": {
    "execution": {
     "iopub.execute_input": "2024-12-15T09:36:14.954851Z",
     "iopub.status.busy": "2024-12-15T09:36:14.954416Z",
     "iopub.status.idle": "2024-12-15T09:36:14.971368Z",
     "shell.execute_reply": "2024-12-15T09:36:14.969890Z"
    },
    "papermill": {
     "duration": 0.024848,
     "end_time": "2024-12-15T09:36:14.973931",
     "exception": false,
     "start_time": "2024-12-15T09:36:14.949083",
     "status": "completed"
    },
    "tags": []
   },
   "outputs": [],
   "source": [
    "# Merge one-hot encoded dataframes to training_data dataframe and drop one-hot encoded columns\n",
    "\n",
    "training_data = pd.concat([training_data, one_hot_encoded_test_foundation], axis = 1)\n",
    "\n",
    "training_data = training_data.drop(['Foundation'], axis = 1)\n",
    "\n",
    "validation_data = pd.concat([validation_data, one_hot_encoded_validation_foundation], axis = 1)\n",
    "\n",
    "validation_data = validation_data.drop(['Foundation'], axis = 1)"
   ]
  },
  {
   "cell_type": "code",
   "execution_count": 8,
   "id": "833c6bc7",
   "metadata": {
    "execution": {
     "iopub.execute_input": "2024-12-15T09:36:14.983459Z",
     "iopub.status.busy": "2024-12-15T09:36:14.983045Z",
     "iopub.status.idle": "2024-12-15T09:36:14.988389Z",
     "shell.execute_reply": "2024-12-15T09:36:14.987412Z"
    },
    "papermill": {
     "duration": 0.012624,
     "end_time": "2024-12-15T09:36:14.990553",
     "exception": false,
     "start_time": "2024-12-15T09:36:14.977929",
     "status": "completed"
    },
    "tags": []
   },
   "outputs": [],
   "source": [
    "# Store columns that now contain 'Foundation' as part of their name\n",
    "\n",
    "test_foundation_columns = [column for column in training_data.columns if column.startswith('Foundation')]\n",
    "\n",
    "validation_foundation_columns = [column for column in validation_data.columns if column.startswith('Foundation')]"
   ]
  },
  {
   "cell_type": "code",
   "execution_count": 9,
   "id": "01cd82cf",
   "metadata": {
    "execution": {
     "iopub.execute_input": "2024-12-15T09:36:14.999932Z",
     "iopub.status.busy": "2024-12-15T09:36:14.999523Z",
     "iopub.status.idle": "2024-12-15T09:36:15.004747Z",
     "shell.execute_reply": "2024-12-15T09:36:15.003684Z"
    },
    "papermill": {
     "duration": 0.012746,
     "end_time": "2024-12-15T09:36:15.007058",
     "exception": false,
     "start_time": "2024-12-15T09:36:14.994312",
     "status": "completed"
    },
    "tags": []
   },
   "outputs": [],
   "source": [
    "# Set up the features\n",
    "\n",
    "test_features = ['OverallQual'] + test_foundation_columns\n",
    "\n",
    "validation_features = ['OverallQual'] + validation_foundation_columns"
   ]
  },
  {
   "cell_type": "code",
   "execution_count": 10,
   "id": "c86ce22e",
   "metadata": {
    "execution": {
     "iopub.execute_input": "2024-12-15T09:36:15.016269Z",
     "iopub.status.busy": "2024-12-15T09:36:15.015865Z",
     "iopub.status.idle": "2024-12-15T09:36:15.024045Z",
     "shell.execute_reply": "2024-12-15T09:36:15.022178Z"
    },
    "papermill": {
     "duration": 0.015957,
     "end_time": "2024-12-15T09:36:15.026830",
     "exception": false,
     "start_time": "2024-12-15T09:36:15.010873",
     "status": "completed"
    },
    "tags": []
   },
   "outputs": [],
   "source": [
    "# Set up the independent variables for the training and validation datasets\n",
    "\n",
    "test_independent_variable = training_data[test_features]\n",
    "\n",
    "validation_independent_variable = validation_data[validation_features]"
   ]
  },
  {
   "cell_type": "code",
   "execution_count": 11,
   "id": "f6b7cca3",
   "metadata": {
    "execution": {
     "iopub.execute_input": "2024-12-15T09:36:15.036088Z",
     "iopub.status.busy": "2024-12-15T09:36:15.035643Z",
     "iopub.status.idle": "2024-12-15T09:36:15.041023Z",
     "shell.execute_reply": "2024-12-15T09:36:15.039771Z"
    },
    "papermill": {
     "duration": 0.012755,
     "end_time": "2024-12-15T09:36:15.043400",
     "exception": false,
     "start_time": "2024-12-15T09:36:15.030645",
     "status": "completed"
    },
    "tags": []
   },
   "outputs": [],
   "source": [
    "# Specify the model and its parameters\n",
    "\n",
    "model = RandomForestClassifier(n_estimators = 50, max_depth = 5)"
   ]
  },
  {
   "cell_type": "code",
   "execution_count": 12,
   "id": "fd3a0fff",
   "metadata": {
    "execution": {
     "iopub.execute_input": "2024-12-15T09:36:15.052640Z",
     "iopub.status.busy": "2024-12-15T09:36:15.052209Z",
     "iopub.status.idle": "2024-12-15T09:36:15.182900Z",
     "shell.execute_reply": "2024-12-15T09:36:15.181688Z"
    },
    "papermill": {
     "duration": 0.137926,
     "end_time": "2024-12-15T09:36:15.185278",
     "exception": false,
     "start_time": "2024-12-15T09:36:15.047352",
     "status": "completed"
    },
    "tags": []
   },
   "outputs": [
    {
     "data": {
      "text/html": [
       "<style>#sk-container-id-1 {color: black;background-color: white;}#sk-container-id-1 pre{padding: 0;}#sk-container-id-1 div.sk-toggleable {background-color: white;}#sk-container-id-1 label.sk-toggleable__label {cursor: pointer;display: block;width: 100%;margin-bottom: 0;padding: 0.3em;box-sizing: border-box;text-align: center;}#sk-container-id-1 label.sk-toggleable__label-arrow:before {content: \"▸\";float: left;margin-right: 0.25em;color: #696969;}#sk-container-id-1 label.sk-toggleable__label-arrow:hover:before {color: black;}#sk-container-id-1 div.sk-estimator:hover label.sk-toggleable__label-arrow:before {color: black;}#sk-container-id-1 div.sk-toggleable__content {max-height: 0;max-width: 0;overflow: hidden;text-align: left;background-color: #f0f8ff;}#sk-container-id-1 div.sk-toggleable__content pre {margin: 0.2em;color: black;border-radius: 0.25em;background-color: #f0f8ff;}#sk-container-id-1 input.sk-toggleable__control:checked~div.sk-toggleable__content {max-height: 200px;max-width: 100%;overflow: auto;}#sk-container-id-1 input.sk-toggleable__control:checked~label.sk-toggleable__label-arrow:before {content: \"▾\";}#sk-container-id-1 div.sk-estimator input.sk-toggleable__control:checked~label.sk-toggleable__label {background-color: #d4ebff;}#sk-container-id-1 div.sk-label input.sk-toggleable__control:checked~label.sk-toggleable__label {background-color: #d4ebff;}#sk-container-id-1 input.sk-hidden--visually {border: 0;clip: rect(1px 1px 1px 1px);clip: rect(1px, 1px, 1px, 1px);height: 1px;margin: -1px;overflow: hidden;padding: 0;position: absolute;width: 1px;}#sk-container-id-1 div.sk-estimator {font-family: monospace;background-color: #f0f8ff;border: 1px dotted black;border-radius: 0.25em;box-sizing: border-box;margin-bottom: 0.5em;}#sk-container-id-1 div.sk-estimator:hover {background-color: #d4ebff;}#sk-container-id-1 div.sk-parallel-item::after {content: \"\";width: 100%;border-bottom: 1px solid gray;flex-grow: 1;}#sk-container-id-1 div.sk-label:hover label.sk-toggleable__label {background-color: #d4ebff;}#sk-container-id-1 div.sk-serial::before {content: \"\";position: absolute;border-left: 1px solid gray;box-sizing: border-box;top: 0;bottom: 0;left: 50%;z-index: 0;}#sk-container-id-1 div.sk-serial {display: flex;flex-direction: column;align-items: center;background-color: white;padding-right: 0.2em;padding-left: 0.2em;position: relative;}#sk-container-id-1 div.sk-item {position: relative;z-index: 1;}#sk-container-id-1 div.sk-parallel {display: flex;align-items: stretch;justify-content: center;background-color: white;position: relative;}#sk-container-id-1 div.sk-item::before, #sk-container-id-1 div.sk-parallel-item::before {content: \"\";position: absolute;border-left: 1px solid gray;box-sizing: border-box;top: 0;bottom: 0;left: 50%;z-index: -1;}#sk-container-id-1 div.sk-parallel-item {display: flex;flex-direction: column;z-index: 1;position: relative;background-color: white;}#sk-container-id-1 div.sk-parallel-item:first-child::after {align-self: flex-end;width: 50%;}#sk-container-id-1 div.sk-parallel-item:last-child::after {align-self: flex-start;width: 50%;}#sk-container-id-1 div.sk-parallel-item:only-child::after {width: 0;}#sk-container-id-1 div.sk-dashed-wrapped {border: 1px dashed gray;margin: 0 0.4em 0.5em 0.4em;box-sizing: border-box;padding-bottom: 0.4em;background-color: white;}#sk-container-id-1 div.sk-label label {font-family: monospace;font-weight: bold;display: inline-block;line-height: 1.2em;}#sk-container-id-1 div.sk-label-container {text-align: center;}#sk-container-id-1 div.sk-container {/* jupyter's `normalize.less` sets `[hidden] { display: none; }` but bootstrap.min.css set `[hidden] { display: none !important; }` so we also need the `!important` here to be able to override the default hidden behavior on the sphinx rendered scikit-learn.org. See: https://github.com/scikit-learn/scikit-learn/issues/21755 */display: inline-block !important;position: relative;}#sk-container-id-1 div.sk-text-repr-fallback {display: none;}</style><div id=\"sk-container-id-1\" class=\"sk-top-container\"><div class=\"sk-text-repr-fallback\"><pre>RandomForestClassifier(max_depth=5, n_estimators=50)</pre><b>In a Jupyter environment, please rerun this cell to show the HTML representation or trust the notebook. <br />On GitHub, the HTML representation is unable to render, please try loading this page with nbviewer.org.</b></div><div class=\"sk-container\" hidden><div class=\"sk-item\"><div class=\"sk-estimator sk-toggleable\"><input class=\"sk-toggleable__control sk-hidden--visually\" id=\"sk-estimator-id-1\" type=\"checkbox\" checked><label for=\"sk-estimator-id-1\" class=\"sk-toggleable__label sk-toggleable__label-arrow\">RandomForestClassifier</label><div class=\"sk-toggleable__content\"><pre>RandomForestClassifier(max_depth=5, n_estimators=50)</pre></div></div></div></div></div>"
      ],
      "text/plain": [
       "RandomForestClassifier(max_depth=5, n_estimators=50)"
      ]
     },
     "execution_count": 12,
     "metadata": {},
     "output_type": "execute_result"
    }
   ],
   "source": [
    "# Fit the model to the training data\n",
    "\n",
    "model.fit(test_independent_variable, training_target_variable)"
   ]
  },
  {
   "cell_type": "code",
   "execution_count": 13,
   "id": "4b495e1d",
   "metadata": {
    "execution": {
     "iopub.execute_input": "2024-12-15T09:36:15.195167Z",
     "iopub.status.busy": "2024-12-15T09:36:15.194794Z",
     "iopub.status.idle": "2024-12-15T09:36:15.424742Z",
     "shell.execute_reply": "2024-12-15T09:36:15.423566Z"
    },
    "papermill": {
     "duration": 0.237817,
     "end_time": "2024-12-15T09:36:15.427278",
     "exception": false,
     "start_time": "2024-12-15T09:36:15.189461",
     "status": "completed"
    },
    "tags": []
   },
   "outputs": [],
   "source": [
    "# Predict the house sale price on the training data\n",
    "\n",
    "prediction = model.predict(test_independent_variable)"
   ]
  },
  {
   "cell_type": "code",
   "execution_count": 14,
   "id": "d4b464fe",
   "metadata": {
    "execution": {
     "iopub.execute_input": "2024-12-15T09:36:15.437299Z",
     "iopub.status.busy": "2024-12-15T09:36:15.436840Z",
     "iopub.status.idle": "2024-12-15T09:36:15.644428Z",
     "shell.execute_reply": "2024-12-15T09:36:15.643507Z"
    },
    "papermill": {
     "duration": 0.215339,
     "end_time": "2024-12-15T09:36:15.646790",
     "exception": false,
     "start_time": "2024-12-15T09:36:15.431451",
     "status": "completed"
    },
    "tags": []
   },
   "outputs": [],
   "source": [
    "# Make a prediction of sale price on the validation data\n",
    "\n",
    "validation_prediction = model.predict(validation_independent_variable)"
   ]
  },
  {
   "cell_type": "code",
   "execution_count": 15,
   "id": "e47712c4",
   "metadata": {
    "execution": {
     "iopub.execute_input": "2024-12-15T09:36:15.656654Z",
     "iopub.status.busy": "2024-12-15T09:36:15.656220Z",
     "iopub.status.idle": "2024-12-15T09:36:15.666355Z",
     "shell.execute_reply": "2024-12-15T09:36:15.665440Z"
    },
    "papermill": {
     "duration": 0.01795,
     "end_time": "2024-12-15T09:36:15.668861",
     "exception": false,
     "start_time": "2024-12-15T09:36:15.650911",
     "status": "completed"
    },
    "tags": []
   },
   "outputs": [],
   "source": [
    "# Save the output in the desired format and output to .csv file\n",
    "\n",
    "output = pd.DataFrame({'Id': validation_data.Id, 'SalePrice': validation_prediction})\n",
    "\n",
    "output.to_csv('submission.csv', index = False)"
   ]
  }
 ],
 "metadata": {
  "kaggle": {
   "accelerator": "none",
   "dataSources": [
    {
     "databundleVersionId": 868283,
     "sourceId": 5407,
     "sourceType": "competition"
    }
   ],
   "dockerImageVersionId": 30804,
   "isGpuEnabled": false,
   "isInternetEnabled": true,
   "language": "python",
   "sourceType": "notebook"
  },
  "kernelspec": {
   "display_name": "Python 3",
   "language": "python",
   "name": "python3"
  },
  "language_info": {
   "codemirror_mode": {
    "name": "ipython",
    "version": 3
   },
   "file_extension": ".py",
   "mimetype": "text/x-python",
   "name": "python",
   "nbconvert_exporter": "python",
   "pygments_lexer": "ipython3",
   "version": "3.10.14"
  },
  "papermill": {
   "default_parameters": {},
   "duration": 7.189626,
   "end_time": "2024-12-15T09:36:16.295570",
   "environment_variables": {},
   "exception": null,
   "input_path": "__notebook__.ipynb",
   "output_path": "__notebook__.ipynb",
   "parameters": {},
   "start_time": "2024-12-15T09:36:09.105944",
   "version": "2.6.0"
  }
 },
 "nbformat": 4,
 "nbformat_minor": 5
}
