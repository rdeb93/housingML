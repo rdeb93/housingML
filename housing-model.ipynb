{
 "cells": [
  {
   "cell_type": "code",
   "execution_count": 1,
   "id": "db8b60ba",
   "metadata": {
    "_cell_guid": "b1076dfc-b9ad-4769-8c92-a6c4dae69d19",
    "_uuid": "8f2839f25d086af736a60e9eeb907d3b93b6e0e5",
    "execution": {
     "iopub.execute_input": "2024-12-15T08:23:04.098432Z",
     "iopub.status.busy": "2024-12-15T08:23:04.098063Z",
     "iopub.status.idle": "2024-12-15T08:23:04.927509Z",
     "shell.execute_reply": "2024-12-15T08:23:04.926188Z"
    },
    "papermill": {
     "duration": 0.83631,
     "end_time": "2024-12-15T08:23:04.930017",
     "exception": false,
     "start_time": "2024-12-15T08:23:04.093707",
     "status": "completed"
    },
    "tags": []
   },
   "outputs": [
    {
     "name": "stdout",
     "output_type": "stream",
     "text": [
      "/kaggle/input/house-prices-advanced-regression-techniques/sample_submission.csv\n",
      "/kaggle/input/house-prices-advanced-regression-techniques/data_description.txt\n",
      "/kaggle/input/house-prices-advanced-regression-techniques/train.csv\n",
      "/kaggle/input/house-prices-advanced-regression-techniques/test.csv\n"
     ]
    }
   ],
   "source": [
    "# This Python 3 environment comes with many helpful analytics libraries installed\n",
    "# It is defined by the kaggle/python Docker image: https://github.com/kaggle/docker-python\n",
    "# For example, here's several helpful packages to load\n",
    "\n",
    "import numpy as np # linear algebra\n",
    "import pandas as pd # data processing, CSV file I/O (e.g. pd.read_csv)\n",
    "\n",
    "# Input data files are available in the read-only \"../input/\" directory\n",
    "# For example, running this (by clicking run or pressing Shift+Enter) will list all files under the input directory\n",
    "\n",
    "import os\n",
    "for dirname, _, filenames in os.walk('/kaggle/input'):\n",
    "    for filename in filenames:\n",
    "        print(os.path.join(dirname, filename))\n",
    "\n",
    "# You can write up to 20GB to the current directory (/kaggle/working/) that gets preserved as output when you create a version using \"Save & Run All\" \n",
    "# You can also write temporary files to /kaggle/temp/, but they won't be saved outside of the current session"
   ]
  },
  {
   "cell_type": "code",
   "execution_count": 2,
   "id": "f38b4eae",
   "metadata": {
    "execution": {
     "iopub.execute_input": "2024-12-15T08:23:04.938093Z",
     "iopub.status.busy": "2024-12-15T08:23:04.937588Z",
     "iopub.status.idle": "2024-12-15T08:23:06.538748Z",
     "shell.execute_reply": "2024-12-15T08:23:06.537892Z"
    },
    "papermill": {
     "duration": 1.607669,
     "end_time": "2024-12-15T08:23:06.541179",
     "exception": false,
     "start_time": "2024-12-15T08:23:04.933510",
     "status": "completed"
    },
    "tags": []
   },
   "outputs": [],
   "source": [
    "from sklearn.ensemble import RandomForestClassifier"
   ]
  },
  {
   "cell_type": "code",
   "execution_count": 3,
   "id": "598c08ac",
   "metadata": {
    "execution": {
     "iopub.execute_input": "2024-12-15T08:23:06.548196Z",
     "iopub.status.busy": "2024-12-15T08:23:06.547319Z",
     "iopub.status.idle": "2024-12-15T08:23:06.552678Z",
     "shell.execute_reply": "2024-12-15T08:23:06.551616Z"
    },
    "papermill": {
     "duration": 0.011088,
     "end_time": "2024-12-15T08:23:06.554844",
     "exception": false,
     "start_time": "2024-12-15T08:23:06.543756",
     "status": "completed"
    },
    "tags": []
   },
   "outputs": [],
   "source": [
    "# Specify the paths to the training and the validation data files.\n",
    "\n",
    "training_data_file_path = '../input/house-prices-advanced-regression-techniques/train.csv'\n",
    "\n",
    "validation_data_file_path = '../input/house-prices-advanced-regression-techniques/test.csv'"
   ]
  },
  {
   "cell_type": "code",
   "execution_count": 4,
   "id": "a6260850",
   "metadata": {
    "execution": {
     "iopub.execute_input": "2024-12-15T08:23:06.561319Z",
     "iopub.status.busy": "2024-12-15T08:23:06.560953Z",
     "iopub.status.idle": "2024-12-15T08:23:06.634932Z",
     "shell.execute_reply": "2024-12-15T08:23:06.633803Z"
    },
    "papermill": {
     "duration": 0.079651,
     "end_time": "2024-12-15T08:23:06.637232",
     "exception": false,
     "start_time": "2024-12-15T08:23:06.557581",
     "status": "completed"
    },
    "tags": []
   },
   "outputs": [],
   "source": [
    "# Read the .csv files\n",
    "\n",
    "training_data = pd.read_csv(training_data_file_path)\n",
    "\n",
    "validation_data = pd.read_csv(validation_data_file_path)"
   ]
  },
  {
   "cell_type": "code",
   "execution_count": 5,
   "id": "6ca2ba55",
   "metadata": {
    "execution": {
     "iopub.execute_input": "2024-12-15T08:23:06.643519Z",
     "iopub.status.busy": "2024-12-15T08:23:06.643132Z",
     "iopub.status.idle": "2024-12-15T08:23:06.651433Z",
     "shell.execute_reply": "2024-12-15T08:23:06.650395Z"
    },
    "papermill": {
     "duration": 0.013825,
     "end_time": "2024-12-15T08:23:06.653527",
     "exception": false,
     "start_time": "2024-12-15T08:23:06.639702",
     "status": "completed"
    },
    "tags": []
   },
   "outputs": [],
   "source": [
    "# Set up the target variable for the training dataset\n",
    "\n",
    "training_target_variable = training_data.SalePrice"
   ]
  },
  {
   "cell_type": "code",
   "execution_count": 6,
   "id": "5eb6a471",
   "metadata": {
    "execution": {
     "iopub.execute_input": "2024-12-15T08:23:06.659571Z",
     "iopub.status.busy": "2024-12-15T08:23:06.659213Z",
     "iopub.status.idle": "2024-12-15T08:23:06.663523Z",
     "shell.execute_reply": "2024-12-15T08:23:06.662535Z"
    },
    "papermill": {
     "duration": 0.009575,
     "end_time": "2024-12-15T08:23:06.665544",
     "exception": false,
     "start_time": "2024-12-15T08:23:06.655969",
     "status": "completed"
    },
    "tags": []
   },
   "outputs": [],
   "source": [
    "# Set up the features\n",
    "\n",
    "features = ['OverallQual']"
   ]
  },
  {
   "cell_type": "code",
   "execution_count": 7,
   "id": "332f66ac",
   "metadata": {
    "execution": {
     "iopub.execute_input": "2024-12-15T08:23:06.671289Z",
     "iopub.status.busy": "2024-12-15T08:23:06.670989Z",
     "iopub.status.idle": "2024-12-15T08:23:06.681355Z",
     "shell.execute_reply": "2024-12-15T08:23:06.680373Z"
    },
    "papermill": {
     "duration": 0.015588,
     "end_time": "2024-12-15T08:23:06.683405",
     "exception": false,
     "start_time": "2024-12-15T08:23:06.667817",
     "status": "completed"
    },
    "tags": []
   },
   "outputs": [],
   "source": [
    "# Set up the independent variable\n",
    "\n",
    "independent_variable = training_data[features]"
   ]
  }
 ],
 "metadata": {
  "kaggle": {
   "accelerator": "none",
   "dataSources": [
    {
     "databundleVersionId": 868283,
     "sourceId": 5407,
     "sourceType": "competition"
    }
   ],
   "dockerImageVersionId": 30804,
   "isGpuEnabled": false,
   "isInternetEnabled": true,
   "language": "python",
   "sourceType": "notebook"
  },
  "kernelspec": {
   "display_name": "Python 3",
   "language": "python",
   "name": "python3"
  },
  "language_info": {
   "codemirror_mode": {
    "name": "ipython",
    "version": 3
   },
   "file_extension": ".py",
   "mimetype": "text/x-python",
   "name": "python",
   "nbconvert_exporter": "python",
   "pygments_lexer": "ipython3",
   "version": "3.10.14"
  },
  "papermill": {
   "default_parameters": {},
   "duration": 5.737412,
   "end_time": "2024-12-15T08:23:07.306264",
   "environment_variables": {},
   "exception": null,
   "input_path": "__notebook__.ipynb",
   "output_path": "__notebook__.ipynb",
   "parameters": {},
   "start_time": "2024-12-15T08:23:01.568852",
   "version": "2.6.0"
  }
 },
 "nbformat": 4,
 "nbformat_minor": 5
}
