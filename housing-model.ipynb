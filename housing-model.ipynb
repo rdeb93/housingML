{
 "cells": [
  {
   "cell_type": "code",
   "execution_count": 1,
   "id": "c3f6e3b0",
   "metadata": {
    "_cell_guid": "b1076dfc-b9ad-4769-8c92-a6c4dae69d19",
    "_uuid": "8f2839f25d086af736a60e9eeb907d3b93b6e0e5",
    "execution": {
     "iopub.execute_input": "2024-12-15T08:25:36.443585Z",
     "iopub.status.busy": "2024-12-15T08:25:36.442575Z",
     "iopub.status.idle": "2024-12-15T08:25:37.330127Z",
     "shell.execute_reply": "2024-12-15T08:25:37.328866Z"
    },
    "papermill": {
     "duration": 0.895169,
     "end_time": "2024-12-15T08:25:37.332372",
     "exception": false,
     "start_time": "2024-12-15T08:25:36.437203",
     "status": "completed"
    },
    "tags": []
   },
   "outputs": [
    {
     "name": "stdout",
     "output_type": "stream",
     "text": [
      "/kaggle/input/house-prices-advanced-regression-techniques/sample_submission.csv\n",
      "/kaggle/input/house-prices-advanced-regression-techniques/data_description.txt\n",
      "/kaggle/input/house-prices-advanced-regression-techniques/train.csv\n",
      "/kaggle/input/house-prices-advanced-regression-techniques/test.csv\n"
     ]
    }
   ],
   "source": [
    "# This Python 3 environment comes with many helpful analytics libraries installed\n",
    "# It is defined by the kaggle/python Docker image: https://github.com/kaggle/docker-python\n",
    "# For example, here's several helpful packages to load\n",
    "\n",
    "import numpy as np # linear algebra\n",
    "import pandas as pd # data processing, CSV file I/O (e.g. pd.read_csv)\n",
    "\n",
    "# Input data files are available in the read-only \"../input/\" directory\n",
    "# For example, running this (by clicking run or pressing Shift+Enter) will list all files under the input directory\n",
    "\n",
    "import os\n",
    "for dirname, _, filenames in os.walk('/kaggle/input'):\n",
    "    for filename in filenames:\n",
    "        print(os.path.join(dirname, filename))\n",
    "\n",
    "# You can write up to 20GB to the current directory (/kaggle/working/) that gets preserved as output when you create a version using \"Save & Run All\" \n",
    "# You can also write temporary files to /kaggle/temp/, but they won't be saved outside of the current session"
   ]
  },
  {
   "cell_type": "code",
   "execution_count": 2,
   "id": "129aadc3",
   "metadata": {
    "execution": {
     "iopub.execute_input": "2024-12-15T08:25:37.340126Z",
     "iopub.status.busy": "2024-12-15T08:25:37.339604Z",
     "iopub.status.idle": "2024-12-15T08:25:39.090059Z",
     "shell.execute_reply": "2024-12-15T08:25:39.089152Z"
    },
    "papermill": {
     "duration": 1.756996,
     "end_time": "2024-12-15T08:25:39.092506",
     "exception": false,
     "start_time": "2024-12-15T08:25:37.335510",
     "status": "completed"
    },
    "tags": []
   },
   "outputs": [],
   "source": [
    "from sklearn.ensemble import RandomForestClassifier"
   ]
  },
  {
   "cell_type": "code",
   "execution_count": 3,
   "id": "e848c5d1",
   "metadata": {
    "execution": {
     "iopub.execute_input": "2024-12-15T08:25:39.100226Z",
     "iopub.status.busy": "2024-12-15T08:25:39.099698Z",
     "iopub.status.idle": "2024-12-15T08:25:39.105095Z",
     "shell.execute_reply": "2024-12-15T08:25:39.103816Z"
    },
    "papermill": {
     "duration": 0.011973,
     "end_time": "2024-12-15T08:25:39.107479",
     "exception": false,
     "start_time": "2024-12-15T08:25:39.095506",
     "status": "completed"
    },
    "tags": []
   },
   "outputs": [],
   "source": [
    "# Specify the paths to the training and the validation data files.\n",
    "\n",
    "training_data_file_path = '../input/house-prices-advanced-regression-techniques/train.csv'\n",
    "\n",
    "validation_data_file_path = '../input/house-prices-advanced-regression-techniques/test.csv'"
   ]
  },
  {
   "cell_type": "code",
   "execution_count": 4,
   "id": "10b6a9ab",
   "metadata": {
    "execution": {
     "iopub.execute_input": "2024-12-15T08:25:39.114610Z",
     "iopub.status.busy": "2024-12-15T08:25:39.114267Z",
     "iopub.status.idle": "2024-12-15T08:25:39.193387Z",
     "shell.execute_reply": "2024-12-15T08:25:39.192343Z"
    },
    "papermill": {
     "duration": 0.085426,
     "end_time": "2024-12-15T08:25:39.195819",
     "exception": false,
     "start_time": "2024-12-15T08:25:39.110393",
     "status": "completed"
    },
    "tags": []
   },
   "outputs": [],
   "source": [
    "# Read the .csv files\n",
    "\n",
    "training_data = pd.read_csv(training_data_file_path)\n",
    "\n",
    "validation_data = pd.read_csv(validation_data_file_path)"
   ]
  },
  {
   "cell_type": "code",
   "execution_count": 5,
   "id": "7cecdd3d",
   "metadata": {
    "execution": {
     "iopub.execute_input": "2024-12-15T08:25:39.204049Z",
     "iopub.status.busy": "2024-12-15T08:25:39.202906Z",
     "iopub.status.idle": "2024-12-15T08:25:39.211664Z",
     "shell.execute_reply": "2024-12-15T08:25:39.210527Z"
    },
    "papermill": {
     "duration": 0.015227,
     "end_time": "2024-12-15T08:25:39.213919",
     "exception": false,
     "start_time": "2024-12-15T08:25:39.198692",
     "status": "completed"
    },
    "tags": []
   },
   "outputs": [],
   "source": [
    "# Set up the target variable for the training dataset\n",
    "\n",
    "training_target_variable = training_data.SalePrice"
   ]
  },
  {
   "cell_type": "code",
   "execution_count": 6,
   "id": "4297b5a0",
   "metadata": {
    "execution": {
     "iopub.execute_input": "2024-12-15T08:25:39.221530Z",
     "iopub.status.busy": "2024-12-15T08:25:39.221140Z",
     "iopub.status.idle": "2024-12-15T08:25:39.225973Z",
     "shell.execute_reply": "2024-12-15T08:25:39.224925Z"
    },
    "papermill": {
     "duration": 0.011175,
     "end_time": "2024-12-15T08:25:39.228078",
     "exception": false,
     "start_time": "2024-12-15T08:25:39.216903",
     "status": "completed"
    },
    "tags": []
   },
   "outputs": [],
   "source": [
    "# Set up the features\n",
    "\n",
    "features = ['OverallQual']"
   ]
  },
  {
   "cell_type": "code",
   "execution_count": 7,
   "id": "0cba38c1",
   "metadata": {
    "execution": {
     "iopub.execute_input": "2024-12-15T08:25:39.235322Z",
     "iopub.status.busy": "2024-12-15T08:25:39.234955Z",
     "iopub.status.idle": "2024-12-15T08:25:39.245214Z",
     "shell.execute_reply": "2024-12-15T08:25:39.244173Z"
    },
    "papermill": {
     "duration": 0.016313,
     "end_time": "2024-12-15T08:25:39.247293",
     "exception": false,
     "start_time": "2024-12-15T08:25:39.230980",
     "status": "completed"
    },
    "tags": []
   },
   "outputs": [],
   "source": [
    "# Set up the independent variable\n",
    "\n",
    "independent_variable = training_data[features]"
   ]
  },
  {
   "cell_type": "code",
   "execution_count": 8,
   "id": "37fe55ef",
   "metadata": {
    "execution": {
     "iopub.execute_input": "2024-12-15T08:25:39.254758Z",
     "iopub.status.busy": "2024-12-15T08:25:39.254253Z",
     "iopub.status.idle": "2024-12-15T08:25:39.259484Z",
     "shell.execute_reply": "2024-12-15T08:25:39.258508Z"
    },
    "papermill": {
     "duration": 0.011312,
     "end_time": "2024-12-15T08:25:39.261484",
     "exception": false,
     "start_time": "2024-12-15T08:25:39.250172",
     "status": "completed"
    },
    "tags": []
   },
   "outputs": [],
   "source": [
    "# Specify the model and its parameters\n",
    "\n",
    "model = RandomForestClassifier(n_estimators = 50, max_depth = 5)"
   ]
  },
  {
   "cell_type": "code",
   "execution_count": 9,
   "id": "4e23871b",
   "metadata": {
    "execution": {
     "iopub.execute_input": "2024-12-15T08:25:39.269939Z",
     "iopub.status.busy": "2024-12-15T08:25:39.269438Z",
     "iopub.status.idle": "2024-12-15T08:25:39.388101Z",
     "shell.execute_reply": "2024-12-15T08:25:39.386931Z"
    },
    "papermill": {
     "duration": 0.126149,
     "end_time": "2024-12-15T08:25:39.390591",
     "exception": false,
     "start_time": "2024-12-15T08:25:39.264442",
     "status": "completed"
    },
    "tags": []
   },
   "outputs": [
    {
     "data": {
      "text/html": [
       "<style>#sk-container-id-1 {color: black;background-color: white;}#sk-container-id-1 pre{padding: 0;}#sk-container-id-1 div.sk-toggleable {background-color: white;}#sk-container-id-1 label.sk-toggleable__label {cursor: pointer;display: block;width: 100%;margin-bottom: 0;padding: 0.3em;box-sizing: border-box;text-align: center;}#sk-container-id-1 label.sk-toggleable__label-arrow:before {content: \"▸\";float: left;margin-right: 0.25em;color: #696969;}#sk-container-id-1 label.sk-toggleable__label-arrow:hover:before {color: black;}#sk-container-id-1 div.sk-estimator:hover label.sk-toggleable__label-arrow:before {color: black;}#sk-container-id-1 div.sk-toggleable__content {max-height: 0;max-width: 0;overflow: hidden;text-align: left;background-color: #f0f8ff;}#sk-container-id-1 div.sk-toggleable__content pre {margin: 0.2em;color: black;border-radius: 0.25em;background-color: #f0f8ff;}#sk-container-id-1 input.sk-toggleable__control:checked~div.sk-toggleable__content {max-height: 200px;max-width: 100%;overflow: auto;}#sk-container-id-1 input.sk-toggleable__control:checked~label.sk-toggleable__label-arrow:before {content: \"▾\";}#sk-container-id-1 div.sk-estimator input.sk-toggleable__control:checked~label.sk-toggleable__label {background-color: #d4ebff;}#sk-container-id-1 div.sk-label input.sk-toggleable__control:checked~label.sk-toggleable__label {background-color: #d4ebff;}#sk-container-id-1 input.sk-hidden--visually {border: 0;clip: rect(1px 1px 1px 1px);clip: rect(1px, 1px, 1px, 1px);height: 1px;margin: -1px;overflow: hidden;padding: 0;position: absolute;width: 1px;}#sk-container-id-1 div.sk-estimator {font-family: monospace;background-color: #f0f8ff;border: 1px dotted black;border-radius: 0.25em;box-sizing: border-box;margin-bottom: 0.5em;}#sk-container-id-1 div.sk-estimator:hover {background-color: #d4ebff;}#sk-container-id-1 div.sk-parallel-item::after {content: \"\";width: 100%;border-bottom: 1px solid gray;flex-grow: 1;}#sk-container-id-1 div.sk-label:hover label.sk-toggleable__label {background-color: #d4ebff;}#sk-container-id-1 div.sk-serial::before {content: \"\";position: absolute;border-left: 1px solid gray;box-sizing: border-box;top: 0;bottom: 0;left: 50%;z-index: 0;}#sk-container-id-1 div.sk-serial {display: flex;flex-direction: column;align-items: center;background-color: white;padding-right: 0.2em;padding-left: 0.2em;position: relative;}#sk-container-id-1 div.sk-item {position: relative;z-index: 1;}#sk-container-id-1 div.sk-parallel {display: flex;align-items: stretch;justify-content: center;background-color: white;position: relative;}#sk-container-id-1 div.sk-item::before, #sk-container-id-1 div.sk-parallel-item::before {content: \"\";position: absolute;border-left: 1px solid gray;box-sizing: border-box;top: 0;bottom: 0;left: 50%;z-index: -1;}#sk-container-id-1 div.sk-parallel-item {display: flex;flex-direction: column;z-index: 1;position: relative;background-color: white;}#sk-container-id-1 div.sk-parallel-item:first-child::after {align-self: flex-end;width: 50%;}#sk-container-id-1 div.sk-parallel-item:last-child::after {align-self: flex-start;width: 50%;}#sk-container-id-1 div.sk-parallel-item:only-child::after {width: 0;}#sk-container-id-1 div.sk-dashed-wrapped {border: 1px dashed gray;margin: 0 0.4em 0.5em 0.4em;box-sizing: border-box;padding-bottom: 0.4em;background-color: white;}#sk-container-id-1 div.sk-label label {font-family: monospace;font-weight: bold;display: inline-block;line-height: 1.2em;}#sk-container-id-1 div.sk-label-container {text-align: center;}#sk-container-id-1 div.sk-container {/* jupyter's `normalize.less` sets `[hidden] { display: none; }` but bootstrap.min.css set `[hidden] { display: none !important; }` so we also need the `!important` here to be able to override the default hidden behavior on the sphinx rendered scikit-learn.org. See: https://github.com/scikit-learn/scikit-learn/issues/21755 */display: inline-block !important;position: relative;}#sk-container-id-1 div.sk-text-repr-fallback {display: none;}</style><div id=\"sk-container-id-1\" class=\"sk-top-container\"><div class=\"sk-text-repr-fallback\"><pre>RandomForestClassifier(max_depth=5, n_estimators=50)</pre><b>In a Jupyter environment, please rerun this cell to show the HTML representation or trust the notebook. <br />On GitHub, the HTML representation is unable to render, please try loading this page with nbviewer.org.</b></div><div class=\"sk-container\" hidden><div class=\"sk-item\"><div class=\"sk-estimator sk-toggleable\"><input class=\"sk-toggleable__control sk-hidden--visually\" id=\"sk-estimator-id-1\" type=\"checkbox\" checked><label for=\"sk-estimator-id-1\" class=\"sk-toggleable__label sk-toggleable__label-arrow\">RandomForestClassifier</label><div class=\"sk-toggleable__content\"><pre>RandomForestClassifier(max_depth=5, n_estimators=50)</pre></div></div></div></div></div>"
      ],
      "text/plain": [
       "RandomForestClassifier(max_depth=5, n_estimators=50)"
      ]
     },
     "execution_count": 9,
     "metadata": {},
     "output_type": "execute_result"
    }
   ],
   "source": [
    "# Fit the model to the training data\n",
    "\n",
    "model.fit(independent_variable, training_target_variable)"
   ]
  },
  {
   "cell_type": "code",
   "execution_count": 10,
   "id": "4d6755cc",
   "metadata": {
    "execution": {
     "iopub.execute_input": "2024-12-15T08:25:39.398579Z",
     "iopub.status.busy": "2024-12-15T08:25:39.398196Z",
     "iopub.status.idle": "2024-12-15T08:25:39.613864Z",
     "shell.execute_reply": "2024-12-15T08:25:39.612909Z"
    },
    "papermill": {
     "duration": 0.222437,
     "end_time": "2024-12-15T08:25:39.616303",
     "exception": false,
     "start_time": "2024-12-15T08:25:39.393866",
     "status": "completed"
    },
    "tags": []
   },
   "outputs": [],
   "source": [
    "# Predict the house sale price\n",
    "\n",
    "prediction = model.predict(independent_variable)"
   ]
  }
 ],
 "metadata": {
  "kaggle": {
   "accelerator": "none",
   "dataSources": [
    {
     "databundleVersionId": 868283,
     "sourceId": 5407,
     "sourceType": "competition"
    }
   ],
   "dockerImageVersionId": 30804,
   "isGpuEnabled": false,
   "isInternetEnabled": true,
   "language": "python",
   "sourceType": "notebook"
  },
  "kernelspec": {
   "display_name": "Python 3",
   "language": "python",
   "name": "python3"
  },
  "language_info": {
   "codemirror_mode": {
    "name": "ipython",
    "version": 3
   },
   "file_extension": ".py",
   "mimetype": "text/x-python",
   "name": "python",
   "nbconvert_exporter": "python",
   "pygments_lexer": "ipython3",
   "version": "3.10.14"
  },
  "papermill": {
   "default_parameters": {},
   "duration": 6.536642,
   "end_time": "2024-12-15T08:25:40.241716",
   "environment_variables": {},
   "exception": null,
   "input_path": "__notebook__.ipynb",
   "output_path": "__notebook__.ipynb",
   "parameters": {},
   "start_time": "2024-12-15T08:25:33.705074",
   "version": "2.6.0"
  }
 },
 "nbformat": 4,
 "nbformat_minor": 5
}
