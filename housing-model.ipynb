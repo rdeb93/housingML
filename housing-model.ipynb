{
 "cells": [
  {
   "cell_type": "code",
   "execution_count": 1,
   "id": "0bb18d0c",
   "metadata": {
    "_cell_guid": "b1076dfc-b9ad-4769-8c92-a6c4dae69d19",
    "_uuid": "8f2839f25d086af736a60e9eeb907d3b93b6e0e5",
    "execution": {
     "iopub.execute_input": "2024-12-14T08:30:33.526002Z",
     "iopub.status.busy": "2024-12-14T08:30:33.525689Z",
     "iopub.status.idle": "2024-12-14T08:30:34.237215Z",
     "shell.execute_reply": "2024-12-14T08:30:34.236435Z"
    },
    "papermill": {
     "duration": 0.716371,
     "end_time": "2024-12-14T08:30:34.239124",
     "exception": false,
     "start_time": "2024-12-14T08:30:33.522753",
     "status": "completed"
    },
    "tags": []
   },
   "outputs": [
    {
     "name": "stdout",
     "output_type": "stream",
     "text": [
      "/kaggle/input/house-prices-advanced-regression-techniques/sample_submission.csv\n",
      "/kaggle/input/house-prices-advanced-regression-techniques/data_description.txt\n",
      "/kaggle/input/house-prices-advanced-regression-techniques/train.csv\n",
      "/kaggle/input/house-prices-advanced-regression-techniques/test.csv\n"
     ]
    }
   ],
   "source": [
    "# This Python 3 environment comes with many helpful analytics libraries installed\n",
    "# It is defined by the kaggle/python Docker image: https://github.com/kaggle/docker-python\n",
    "# For example, here's several helpful packages to load\n",
    "\n",
    "import numpy as np # linear algebra\n",
    "import pandas as pd # data processing, CSV file I/O (e.g. pd.read_csv)\n",
    "\n",
    "# Input data files are available in the read-only \"../input/\" directory\n",
    "# For example, running this (by clicking run or pressing Shift+Enter) will list all files under the input directory\n",
    "\n",
    "import os\n",
    "for dirname, _, filenames in os.walk('/kaggle/input'):\n",
    "    for filename in filenames:\n",
    "        print(os.path.join(dirname, filename))\n",
    "\n",
    "# You can write up to 20GB to the current directory (/kaggle/working/) that gets preserved as output when you create a version using \"Save & Run All\" \n",
    "# You can also write temporary files to /kaggle/temp/, but they won't be saved outside of the current session"
   ]
  },
  {
   "cell_type": "code",
   "execution_count": 2,
   "id": "8af0fb13",
   "metadata": {
    "execution": {
     "iopub.execute_input": "2024-12-14T08:30:34.242858Z",
     "iopub.status.busy": "2024-12-14T08:30:34.242524Z",
     "iopub.status.idle": "2024-12-14T08:30:34.246015Z",
     "shell.execute_reply": "2024-12-14T08:30:34.245338Z"
    },
    "papermill": {
     "duration": 0.006658,
     "end_time": "2024-12-14T08:30:34.247344",
     "exception": false,
     "start_time": "2024-12-14T08:30:34.240686",
     "status": "completed"
    },
    "tags": []
   },
   "outputs": [],
   "source": [
    "# Specify the paths to the training and the validation data files.\n",
    "\n",
    "training_data_file_path = '../input/house-prices-advanced-regression-techniques/train.csv'\n",
    "\n",
    "validation_data_file_path = '../input/house-prices-advanced-regression-techniques/test.csv'"
   ]
  },
  {
   "cell_type": "code",
   "execution_count": 3,
   "id": "a4b7b162",
   "metadata": {
    "execution": {
     "iopub.execute_input": "2024-12-14T08:30:34.250240Z",
     "iopub.status.busy": "2024-12-14T08:30:34.250037Z",
     "iopub.status.idle": "2024-12-14T08:30:34.296246Z",
     "shell.execute_reply": "2024-12-14T08:30:34.295564Z"
    },
    "papermill": {
     "duration": 0.049175,
     "end_time": "2024-12-14T08:30:34.297607",
     "exception": false,
     "start_time": "2024-12-14T08:30:34.248432",
     "status": "completed"
    },
    "tags": []
   },
   "outputs": [],
   "source": [
    "# Read the .csv files\n",
    "\n",
    "training_data = pd.read_csv(training_data_file_path)\n",
    "\n",
    "validation_data = pd.read_csv(validation_data_file_path)"
   ]
  }
 ],
 "metadata": {
  "kaggle": {
   "accelerator": "none",
   "dataSources": [
    {
     "databundleVersionId": 868283,
     "sourceId": 5407,
     "sourceType": "competition"
    }
   ],
   "dockerImageVersionId": 30804,
   "isGpuEnabled": false,
   "isInternetEnabled": true,
   "language": "python",
   "sourceType": "notebook"
  },
  "kernelspec": {
   "display_name": "Python 3",
   "language": "python",
   "name": "python3"
  },
  "language_info": {
   "codemirror_mode": {
    "name": "ipython",
    "version": 3
   },
   "file_extension": ".py",
   "mimetype": "text/x-python",
   "name": "python",
   "nbconvert_exporter": "python",
   "pygments_lexer": "ipython3",
   "version": "3.10.14"
  },
  "papermill": {
   "default_parameters": {},
   "duration": 3.074126,
   "end_time": "2024-12-14T08:30:34.614529",
   "environment_variables": {},
   "exception": null,
   "input_path": "__notebook__.ipynb",
   "output_path": "__notebook__.ipynb",
   "parameters": {},
   "start_time": "2024-12-14T08:30:31.540403",
   "version": "2.6.0"
  }
 },
 "nbformat": 4,
 "nbformat_minor": 5
}
