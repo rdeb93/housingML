{
 "cells": [
  {
   "cell_type": "code",
   "execution_count": 1,
   "id": "ebc95e1d",
   "metadata": {
    "_cell_guid": "b1076dfc-b9ad-4769-8c92-a6c4dae69d19",
    "_uuid": "8f2839f25d086af736a60e9eeb907d3b93b6e0e5",
    "execution": {
     "iopub.execute_input": "2024-12-15T08:23:58.532539Z",
     "iopub.status.busy": "2024-12-15T08:23:58.532104Z",
     "iopub.status.idle": "2024-12-15T08:23:59.375524Z",
     "shell.execute_reply": "2024-12-15T08:23:59.374459Z"
    },
    "papermill": {
     "duration": 0.850631,
     "end_time": "2024-12-15T08:23:59.378190",
     "exception": false,
     "start_time": "2024-12-15T08:23:58.527559",
     "status": "completed"
    },
    "tags": []
   },
   "outputs": [
    {
     "name": "stdout",
     "output_type": "stream",
     "text": [
      "/kaggle/input/house-prices-advanced-regression-techniques/sample_submission.csv\n",
      "/kaggle/input/house-prices-advanced-regression-techniques/data_description.txt\n",
      "/kaggle/input/house-prices-advanced-regression-techniques/train.csv\n",
      "/kaggle/input/house-prices-advanced-regression-techniques/test.csv\n"
     ]
    }
   ],
   "source": [
    "# This Python 3 environment comes with many helpful analytics libraries installed\n",
    "# It is defined by the kaggle/python Docker image: https://github.com/kaggle/docker-python\n",
    "# For example, here's several helpful packages to load\n",
    "\n",
    "import numpy as np # linear algebra\n",
    "import pandas as pd # data processing, CSV file I/O (e.g. pd.read_csv)\n",
    "\n",
    "# Input data files are available in the read-only \"../input/\" directory\n",
    "# For example, running this (by clicking run or pressing Shift+Enter) will list all files under the input directory\n",
    "\n",
    "import os\n",
    "for dirname, _, filenames in os.walk('/kaggle/input'):\n",
    "    for filename in filenames:\n",
    "        print(os.path.join(dirname, filename))\n",
    "\n",
    "# You can write up to 20GB to the current directory (/kaggle/working/) that gets preserved as output when you create a version using \"Save & Run All\" \n",
    "# You can also write temporary files to /kaggle/temp/, but they won't be saved outside of the current session"
   ]
  },
  {
   "cell_type": "code",
   "execution_count": 2,
   "id": "fab5c0c2",
   "metadata": {
    "execution": {
     "iopub.execute_input": "2024-12-15T08:23:59.385001Z",
     "iopub.status.busy": "2024-12-15T08:23:59.384537Z",
     "iopub.status.idle": "2024-12-15T08:24:01.007468Z",
     "shell.execute_reply": "2024-12-15T08:24:01.006584Z"
    },
    "papermill": {
     "duration": 1.628768,
     "end_time": "2024-12-15T08:24:01.009817",
     "exception": false,
     "start_time": "2024-12-15T08:23:59.381049",
     "status": "completed"
    },
    "tags": []
   },
   "outputs": [],
   "source": [
    "from sklearn.ensemble import RandomForestClassifier"
   ]
  },
  {
   "cell_type": "code",
   "execution_count": 3,
   "id": "8a877f83",
   "metadata": {
    "execution": {
     "iopub.execute_input": "2024-12-15T08:24:01.016595Z",
     "iopub.status.busy": "2024-12-15T08:24:01.016054Z",
     "iopub.status.idle": "2024-12-15T08:24:01.020816Z",
     "shell.execute_reply": "2024-12-15T08:24:01.019856Z"
    },
    "papermill": {
     "duration": 0.01039,
     "end_time": "2024-12-15T08:24:01.022910",
     "exception": false,
     "start_time": "2024-12-15T08:24:01.012520",
     "status": "completed"
    },
    "tags": []
   },
   "outputs": [],
   "source": [
    "# Specify the paths to the training and the validation data files.\n",
    "\n",
    "training_data_file_path = '../input/house-prices-advanced-regression-techniques/train.csv'\n",
    "\n",
    "validation_data_file_path = '../input/house-prices-advanced-regression-techniques/test.csv'"
   ]
  },
  {
   "cell_type": "code",
   "execution_count": 4,
   "id": "577ab302",
   "metadata": {
    "execution": {
     "iopub.execute_input": "2024-12-15T08:24:01.029019Z",
     "iopub.status.busy": "2024-12-15T08:24:01.028699Z",
     "iopub.status.idle": "2024-12-15T08:24:01.106602Z",
     "shell.execute_reply": "2024-12-15T08:24:01.105524Z"
    },
    "papermill": {
     "duration": 0.083599,
     "end_time": "2024-12-15T08:24:01.109025",
     "exception": false,
     "start_time": "2024-12-15T08:24:01.025426",
     "status": "completed"
    },
    "tags": []
   },
   "outputs": [],
   "source": [
    "# Read the .csv files\n",
    "\n",
    "training_data = pd.read_csv(training_data_file_path)\n",
    "\n",
    "validation_data = pd.read_csv(validation_data_file_path)"
   ]
  },
  {
   "cell_type": "code",
   "execution_count": 5,
   "id": "43e8d34c",
   "metadata": {
    "execution": {
     "iopub.execute_input": "2024-12-15T08:24:01.116044Z",
     "iopub.status.busy": "2024-12-15T08:24:01.115424Z",
     "iopub.status.idle": "2024-12-15T08:24:01.123776Z",
     "shell.execute_reply": "2024-12-15T08:24:01.122751Z"
    },
    "papermill": {
     "duration": 0.013839,
     "end_time": "2024-12-15T08:24:01.125680",
     "exception": false,
     "start_time": "2024-12-15T08:24:01.111841",
     "status": "completed"
    },
    "tags": []
   },
   "outputs": [],
   "source": [
    "# Set up the target variable for the training dataset\n",
    "\n",
    "training_target_variable = training_data.SalePrice"
   ]
  },
  {
   "cell_type": "code",
   "execution_count": 6,
   "id": "6ea66094",
   "metadata": {
    "execution": {
     "iopub.execute_input": "2024-12-15T08:24:01.132253Z",
     "iopub.status.busy": "2024-12-15T08:24:01.131397Z",
     "iopub.status.idle": "2024-12-15T08:24:01.135925Z",
     "shell.execute_reply": "2024-12-15T08:24:01.134891Z"
    },
    "papermill": {
     "duration": 0.009829,
     "end_time": "2024-12-15T08:24:01.137981",
     "exception": false,
     "start_time": "2024-12-15T08:24:01.128152",
     "status": "completed"
    },
    "tags": []
   },
   "outputs": [],
   "source": [
    "# Set up the features\n",
    "\n",
    "features = ['OverallQual']"
   ]
  },
  {
   "cell_type": "code",
   "execution_count": 7,
   "id": "0c4b4b76",
   "metadata": {
    "execution": {
     "iopub.execute_input": "2024-12-15T08:24:01.144264Z",
     "iopub.status.busy": "2024-12-15T08:24:01.143898Z",
     "iopub.status.idle": "2024-12-15T08:24:01.153060Z",
     "shell.execute_reply": "2024-12-15T08:24:01.151936Z"
    },
    "papermill": {
     "duration": 0.014582,
     "end_time": "2024-12-15T08:24:01.155044",
     "exception": false,
     "start_time": "2024-12-15T08:24:01.140462",
     "status": "completed"
    },
    "tags": []
   },
   "outputs": [],
   "source": [
    "# Set up the independent variable\n",
    "\n",
    "independent_variable = training_data[features]"
   ]
  },
  {
   "cell_type": "code",
   "execution_count": 8,
   "id": "281a7dad",
   "metadata": {
    "execution": {
     "iopub.execute_input": "2024-12-15T08:24:01.161434Z",
     "iopub.status.busy": "2024-12-15T08:24:01.161079Z",
     "iopub.status.idle": "2024-12-15T08:24:01.165520Z",
     "shell.execute_reply": "2024-12-15T08:24:01.164555Z"
    },
    "papermill": {
     "duration": 0.010027,
     "end_time": "2024-12-15T08:24:01.167583",
     "exception": false,
     "start_time": "2024-12-15T08:24:01.157556",
     "status": "completed"
    },
    "tags": []
   },
   "outputs": [],
   "source": [
    "# Specify the model and its parameters\n",
    "\n",
    "model = RandomForestClassifier(n_estimators = 50, max_depth = 5)"
   ]
  }
 ],
 "metadata": {
  "kaggle": {
   "accelerator": "none",
   "dataSources": [
    {
     "databundleVersionId": 868283,
     "sourceId": 5407,
     "sourceType": "competition"
    }
   ],
   "dockerImageVersionId": 30804,
   "isGpuEnabled": false,
   "isInternetEnabled": true,
   "language": "python",
   "sourceType": "notebook"
  },
  "kernelspec": {
   "display_name": "Python 3",
   "language": "python",
   "name": "python3"
  },
  "language_info": {
   "codemirror_mode": {
    "name": "ipython",
    "version": 3
   },
   "file_extension": ".py",
   "mimetype": "text/x-python",
   "name": "python",
   "nbconvert_exporter": "python",
   "pygments_lexer": "ipython3",
   "version": "3.10.14"
  },
  "papermill": {
   "default_parameters": {},
   "duration": 5.820478,
   "end_time": "2024-12-15T08:24:01.790213",
   "environment_variables": {},
   "exception": null,
   "input_path": "__notebook__.ipynb",
   "output_path": "__notebook__.ipynb",
   "parameters": {},
   "start_time": "2024-12-15T08:23:55.969735",
   "version": "2.6.0"
  }
 },
 "nbformat": 4,
 "nbformat_minor": 5
}
