{
 "cells": [
  {
   "cell_type": "code",
   "execution_count": 1,
   "id": "b2d0203b",
   "metadata": {
    "_cell_guid": "b1076dfc-b9ad-4769-8c92-a6c4dae69d19",
    "_uuid": "8f2839f25d086af736a60e9eeb907d3b93b6e0e5",
    "execution": {
     "iopub.execute_input": "2024-12-15T08:22:08.947349Z",
     "iopub.status.busy": "2024-12-15T08:22:08.946554Z",
     "iopub.status.idle": "2024-12-15T08:22:09.864832Z",
     "shell.execute_reply": "2024-12-15T08:22:09.863803Z"
    },
    "papermill": {
     "duration": 0.925944,
     "end_time": "2024-12-15T08:22:09.867437",
     "exception": false,
     "start_time": "2024-12-15T08:22:08.941493",
     "status": "completed"
    },
    "tags": []
   },
   "outputs": [
    {
     "name": "stdout",
     "output_type": "stream",
     "text": [
      "/kaggle/input/house-prices-advanced-regression-techniques/sample_submission.csv\n",
      "/kaggle/input/house-prices-advanced-regression-techniques/data_description.txt\n",
      "/kaggle/input/house-prices-advanced-regression-techniques/train.csv\n",
      "/kaggle/input/house-prices-advanced-regression-techniques/test.csv\n"
     ]
    }
   ],
   "source": [
    "# This Python 3 environment comes with many helpful analytics libraries installed\n",
    "# It is defined by the kaggle/python Docker image: https://github.com/kaggle/docker-python\n",
    "# For example, here's several helpful packages to load\n",
    "\n",
    "import numpy as np # linear algebra\n",
    "import pandas as pd # data processing, CSV file I/O (e.g. pd.read_csv)\n",
    "\n",
    "# Input data files are available in the read-only \"../input/\" directory\n",
    "# For example, running this (by clicking run or pressing Shift+Enter) will list all files under the input directory\n",
    "\n",
    "import os\n",
    "for dirname, _, filenames in os.walk('/kaggle/input'):\n",
    "    for filename in filenames:\n",
    "        print(os.path.join(dirname, filename))\n",
    "\n",
    "# You can write up to 20GB to the current directory (/kaggle/working/) that gets preserved as output when you create a version using \"Save & Run All\" \n",
    "# You can also write temporary files to /kaggle/temp/, but they won't be saved outside of the current session"
   ]
  },
  {
   "cell_type": "code",
   "execution_count": 2,
   "id": "97c345f0",
   "metadata": {
    "execution": {
     "iopub.execute_input": "2024-12-15T08:22:09.874593Z",
     "iopub.status.busy": "2024-12-15T08:22:09.874116Z",
     "iopub.status.idle": "2024-12-15T08:22:11.947857Z",
     "shell.execute_reply": "2024-12-15T08:22:11.946838Z"
    },
    "papermill": {
     "duration": 2.080121,
     "end_time": "2024-12-15T08:22:11.950333",
     "exception": false,
     "start_time": "2024-12-15T08:22:09.870212",
     "status": "completed"
    },
    "tags": []
   },
   "outputs": [],
   "source": [
    "from sklearn.ensemble import RandomForestClassifier"
   ]
  },
  {
   "cell_type": "code",
   "execution_count": 3,
   "id": "20d202b1",
   "metadata": {
    "execution": {
     "iopub.execute_input": "2024-12-15T08:22:11.957247Z",
     "iopub.status.busy": "2024-12-15T08:22:11.956750Z",
     "iopub.status.idle": "2024-12-15T08:22:11.961507Z",
     "shell.execute_reply": "2024-12-15T08:22:11.960491Z"
    },
    "papermill": {
     "duration": 0.010276,
     "end_time": "2024-12-15T08:22:11.963414",
     "exception": false,
     "start_time": "2024-12-15T08:22:11.953138",
     "status": "completed"
    },
    "tags": []
   },
   "outputs": [],
   "source": [
    "# Specify the paths to the training and the validation data files.\n",
    "\n",
    "training_data_file_path = '../input/house-prices-advanced-regression-techniques/train.csv'\n",
    "\n",
    "validation_data_file_path = '../input/house-prices-advanced-regression-techniques/test.csv'"
   ]
  },
  {
   "cell_type": "code",
   "execution_count": 4,
   "id": "d75177ba",
   "metadata": {
    "execution": {
     "iopub.execute_input": "2024-12-15T08:22:11.969888Z",
     "iopub.status.busy": "2024-12-15T08:22:11.969139Z",
     "iopub.status.idle": "2024-12-15T08:22:12.038418Z",
     "shell.execute_reply": "2024-12-15T08:22:12.037150Z"
    },
    "papermill": {
     "duration": 0.075153,
     "end_time": "2024-12-15T08:22:12.040890",
     "exception": false,
     "start_time": "2024-12-15T08:22:11.965737",
     "status": "completed"
    },
    "tags": []
   },
   "outputs": [],
   "source": [
    "# Read the .csv files\n",
    "\n",
    "training_data = pd.read_csv(training_data_file_path)\n",
    "\n",
    "validation_data = pd.read_csv(validation_data_file_path)"
   ]
  },
  {
   "cell_type": "code",
   "execution_count": 5,
   "id": "74999c31",
   "metadata": {
    "execution": {
     "iopub.execute_input": "2024-12-15T08:22:12.047191Z",
     "iopub.status.busy": "2024-12-15T08:22:12.046796Z",
     "iopub.status.idle": "2024-12-15T08:22:12.055691Z",
     "shell.execute_reply": "2024-12-15T08:22:12.054803Z"
    },
    "papermill": {
     "duration": 0.014574,
     "end_time": "2024-12-15T08:22:12.057850",
     "exception": false,
     "start_time": "2024-12-15T08:22:12.043276",
     "status": "completed"
    },
    "tags": []
   },
   "outputs": [],
   "source": [
    "# Set up the target variable for the training dataset\n",
    "\n",
    "training_target_variable = training_data.SalePrice"
   ]
  },
  {
   "cell_type": "code",
   "execution_count": 6,
   "id": "7b9db7cb",
   "metadata": {
    "execution": {
     "iopub.execute_input": "2024-12-15T08:22:12.064115Z",
     "iopub.status.busy": "2024-12-15T08:22:12.063752Z",
     "iopub.status.idle": "2024-12-15T08:22:12.068486Z",
     "shell.execute_reply": "2024-12-15T08:22:12.067459Z"
    },
    "papermill": {
     "duration": 0.010306,
     "end_time": "2024-12-15T08:22:12.070542",
     "exception": false,
     "start_time": "2024-12-15T08:22:12.060236",
     "status": "completed"
    },
    "tags": []
   },
   "outputs": [],
   "source": [
    "# Set up the features\n",
    "\n",
    "features = ['OverallQual']"
   ]
  }
 ],
 "metadata": {
  "kaggle": {
   "accelerator": "none",
   "dataSources": [
    {
     "databundleVersionId": 868283,
     "sourceId": 5407,
     "sourceType": "competition"
    }
   ],
   "dockerImageVersionId": 30804,
   "isGpuEnabled": false,
   "isInternetEnabled": true,
   "language": "python",
   "sourceType": "notebook"
  },
  "kernelspec": {
   "display_name": "Python 3",
   "language": "python",
   "name": "python3"
  },
  "language_info": {
   "codemirror_mode": {
    "name": "ipython",
    "version": 3
   },
   "file_extension": ".py",
   "mimetype": "text/x-python",
   "name": "python",
   "nbconvert_exporter": "python",
   "pygments_lexer": "ipython3",
   "version": "3.10.14"
  },
  "papermill": {
   "default_parameters": {},
   "duration": 6.568744,
   "end_time": "2024-12-15T08:22:12.694371",
   "environment_variables": {},
   "exception": null,
   "input_path": "__notebook__.ipynb",
   "output_path": "__notebook__.ipynb",
   "parameters": {},
   "start_time": "2024-12-15T08:22:06.125627",
   "version": "2.6.0"
  }
 },
 "nbformat": 4,
 "nbformat_minor": 5
}
